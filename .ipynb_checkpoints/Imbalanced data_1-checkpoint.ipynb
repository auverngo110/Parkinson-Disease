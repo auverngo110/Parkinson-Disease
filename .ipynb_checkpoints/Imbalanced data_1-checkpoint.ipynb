{
 "cells": [
  {
   "cell_type": "markdown",
   "id": "4aae3a8e",
   "metadata": {},
   "source": [
    "## Prepare"
   ]
  },
  {
   "cell_type": "code",
   "execution_count": 43,
   "id": "b895fc2d",
   "metadata": {},
   "outputs": [],
   "source": [
    "# importing packages\n",
    "import seaborn as sns\n",
    "import pandas as pd\n",
    "import matplotlib.pyplot as plt\n",
    "import numpy as np\n",
    "import os\n",
    "from sklearn.model_selection import train_test_split\n",
    "from sklearn.pipeline import Pipeline\n",
    "from sklearn.metrics import accuracy_score\n",
    "from sklearn.metrics import accuracy_score, balanced_accuracy_score\n",
    "from imblearn.over_sampling import SVMSMOTE\n",
    "from sklearn.linear_model import LogisticRegression\n",
    "from sklearn.neighbors import KNeighborsClassifier\n",
    "from sklearn.naive_bayes import GaussianNB\n",
    "from sklearn.svm import SVC\n",
    "from sklearn.ensemble import RandomForestClassifier\n",
    "from sklearn.tree import DecisionTreeClassifier"
   ]
  },
  {
   "cell_type": "code",
   "execution_count": 44,
   "id": "b319a68d",
   "metadata": {},
   "outputs": [
    {
     "name": "stdout",
     "output_type": "stream",
     "text": [
      "F:\\Parkinson-Disease\n",
      "F:\\Parkinson-Disease\\Data set\\Parkinson disease.csv\n"
     ]
    }
   ],
   "source": [
    "#Data\n",
    "print(os.getcwd())\n",
    "data_dir = os.getcwd() + \"\\\\Data set\\\\Parkinson disease.csv\"\n",
    "print(data_dir)"
   ]
  },
  {
   "cell_type": "code",
   "execution_count": 45,
   "id": "eb54c013",
   "metadata": {},
   "outputs": [
    {
     "name": "stdout",
     "output_type": "stream",
     "text": [
      "<class 'pandas.core.frame.DataFrame'>\n",
      "RangeIndex: 195 entries, 0 to 194\n",
      "Data columns (total 24 columns):\n",
      " #   Column            Non-Null Count  Dtype  \n",
      "---  ------            --------------  -----  \n",
      " 0   name              195 non-null    object \n",
      " 1   MDVP:Fo(Hz)       195 non-null    float64\n",
      " 2   MDVP:Fhi(Hz)      195 non-null    float64\n",
      " 3   MDVP:Flo(Hz)      195 non-null    float64\n",
      " 4   MDVP:Jitter(%)    195 non-null    float64\n",
      " 5   MDVP:Jitter(Abs)  195 non-null    float64\n",
      " 6   MDVP:RAP          195 non-null    float64\n",
      " 7   MDVP:PPQ          195 non-null    float64\n",
      " 8   Jitter:DDP        195 non-null    float64\n",
      " 9   MDVP:Shimmer      195 non-null    float64\n",
      " 10  MDVP:Shimmer(dB)  195 non-null    float64\n",
      " 11  Shimmer:APQ3      195 non-null    float64\n",
      " 12  Shimmer:APQ5      195 non-null    float64\n",
      " 13  MDVP:APQ          195 non-null    float64\n",
      " 14  Shimmer:DDA       195 non-null    float64\n",
      " 15  NHR               195 non-null    float64\n",
      " 16  HNR               195 non-null    float64\n",
      " 17  status            195 non-null    int64  \n",
      " 18  RPDE              195 non-null    float64\n",
      " 19  DFA               195 non-null    float64\n",
      " 20  spread1           195 non-null    float64\n",
      " 21  spread2           195 non-null    float64\n",
      " 22  D2                195 non-null    float64\n",
      " 23  PPE               195 non-null    float64\n",
      "dtypes: float64(22), int64(1), object(1)\n",
      "memory usage: 36.7+ KB\n"
     ]
    },
    {
     "data": {
      "text/plain": [
       "Index(['name', 'MDVP:Fo(Hz)', 'MDVP:Fhi(Hz)', 'MDVP:Flo(Hz)', 'MDVP:Jitter(%)',\n",
       "       'MDVP:Jitter(Abs)', 'MDVP:RAP', 'MDVP:PPQ', 'Jitter:DDP',\n",
       "       'MDVP:Shimmer', 'MDVP:Shimmer(dB)', 'Shimmer:APQ3', 'Shimmer:APQ5',\n",
       "       'MDVP:APQ', 'Shimmer:DDA', 'NHR', 'HNR', 'status', 'RPDE', 'DFA',\n",
       "       'spread1', 'spread2', 'D2', 'PPE'],\n",
       "      dtype='object')"
      ]
     },
     "execution_count": 45,
     "metadata": {},
     "output_type": "execute_result"
    }
   ],
   "source": [
    "df_parkinson = pd.read_csv(data_dir, delimiter = \",\")\n",
    "df_parkinson.info()\n",
    "df_parkinson.columns"
   ]
  },
  {
   "cell_type": "code",
   "execution_count": 46,
   "id": "2d6de6a3",
   "metadata": {},
   "outputs": [
    {
     "name": "stdout",
     "output_type": "stream",
     "text": [
      "               name  MDVP:Fo(Hz)  MDVP:Fhi(Hz)  MDVP:Flo(Hz)  MDVP:Jitter(%)  \\\n",
      "0    phon_R01_S01_1      119.992       157.302        74.997         0.00784   \n",
      "1    phon_R01_S01_2      122.400       148.650       113.819         0.00968   \n",
      "2    phon_R01_S01_3      116.682       131.111       111.555         0.01050   \n",
      "3    phon_R01_S01_4      116.676       137.871       111.366         0.00997   \n",
      "4    phon_R01_S01_5      116.014       141.781       110.655         0.01284   \n",
      "..              ...          ...           ...           ...             ...   \n",
      "190  phon_R01_S50_2      174.188       230.978        94.261         0.00459   \n",
      "191  phon_R01_S50_3      209.516       253.017        89.488         0.00564   \n",
      "192  phon_R01_S50_4      174.688       240.005        74.287         0.01360   \n",
      "193  phon_R01_S50_5      198.764       396.961        74.904         0.00740   \n",
      "194  phon_R01_S50_6      214.289       260.277        77.973         0.00567   \n",
      "\n",
      "     MDVP:Jitter(Abs)  MDVP:RAP  MDVP:PPQ  Jitter:DDP  MDVP:Shimmer  ...  \\\n",
      "0             0.00007   0.00370   0.00554     0.01109       0.04374  ...   \n",
      "1             0.00008   0.00465   0.00696     0.01394       0.06134  ...   \n",
      "2             0.00009   0.00544   0.00781     0.01633       0.05233  ...   \n",
      "3             0.00009   0.00502   0.00698     0.01505       0.05492  ...   \n",
      "4             0.00011   0.00655   0.00908     0.01966       0.06425  ...   \n",
      "..                ...       ...       ...         ...           ...  ...   \n",
      "190           0.00003   0.00263   0.00259     0.00790       0.04087  ...   \n",
      "191           0.00003   0.00331   0.00292     0.00994       0.02751  ...   \n",
      "192           0.00008   0.00624   0.00564     0.01873       0.02308  ...   \n",
      "193           0.00004   0.00370   0.00390     0.01109       0.02296  ...   \n",
      "194           0.00003   0.00295   0.00317     0.00885       0.01884  ...   \n",
      "\n",
      "     Shimmer:DDA      NHR     HNR  status      RPDE       DFA   spread1  \\\n",
      "0        0.06545  0.02211  21.033       1  0.414783  0.815285 -4.813031   \n",
      "1        0.09403  0.01929  19.085       1  0.458359  0.819521 -4.075192   \n",
      "2        0.08270  0.01309  20.651       1  0.429895  0.825288 -4.443179   \n",
      "3        0.08771  0.01353  20.644       1  0.434969  0.819235 -4.117501   \n",
      "4        0.10470  0.01767  19.649       1  0.417356  0.823484 -3.747787   \n",
      "..           ...      ...     ...     ...       ...       ...       ...   \n",
      "190      0.07008  0.02764  19.517       0  0.448439  0.657899 -6.538586   \n",
      "191      0.04812  0.01810  19.147       0  0.431674  0.683244 -6.195325   \n",
      "192      0.03804  0.10715  17.883       0  0.407567  0.655683 -6.787197   \n",
      "193      0.03794  0.07223  19.020       0  0.451221  0.643956 -6.744577   \n",
      "194      0.03078  0.04398  21.209       0  0.462803  0.664357 -5.724056   \n",
      "\n",
      "      spread2        D2       PPE  \n",
      "0    0.266482  2.301442  0.284654  \n",
      "1    0.335590  2.486855  0.368674  \n",
      "2    0.311173  2.342259  0.332634  \n",
      "3    0.334147  2.405554  0.368975  \n",
      "4    0.234513  2.332180  0.410335  \n",
      "..        ...       ...       ...  \n",
      "190  0.121952  2.657476  0.133050  \n",
      "191  0.129303  2.784312  0.168895  \n",
      "192  0.158453  2.679772  0.131728  \n",
      "193  0.207454  2.138608  0.123306  \n",
      "194  0.190667  2.555477  0.148569  \n",
      "\n",
      "[195 rows x 24 columns]\n"
     ]
    }
   ],
   "source": [
    "#dropna drops missing values\n",
    "df_parkinson_miss = df_parkinson.dropna(axis=0)\n",
    "print(df_parkinson_miss)"
   ]
  },
  {
   "cell_type": "markdown",
   "id": "4424911d",
   "metadata": {},
   "source": [
    "## Data processing"
   ]
  },
  {
   "cell_type": "code",
   "execution_count": 47,
   "id": "6d50b477",
   "metadata": {},
   "outputs": [
    {
     "name": "stderr",
     "output_type": "stream",
     "text": [
      "C:\\Users\\HANGO\\AppData\\Local\\Temp\\ipykernel_4300\\745814282.py:2: FutureWarning: In a future version of pandas all arguments of DataFrame.drop except for the argument 'labels' will be keyword-only.\n",
      "  df_parkinson_ef= df_parkinson.drop(ef, 1, errors='ignore')\n"
     ]
    },
    {
     "data": {
      "text/html": [
       "<div>\n",
       "<style scoped>\n",
       "    .dataframe tbody tr th:only-of-type {\n",
       "        vertical-align: middle;\n",
       "    }\n",
       "\n",
       "    .dataframe tbody tr th {\n",
       "        vertical-align: top;\n",
       "    }\n",
       "\n",
       "    .dataframe thead th {\n",
       "        text-align: right;\n",
       "    }\n",
       "</style>\n",
       "<table border=\"1\" class=\"dataframe\">\n",
       "  <thead>\n",
       "    <tr style=\"text-align: right;\">\n",
       "      <th></th>\n",
       "      <th>MDVP:Fo(Hz)</th>\n",
       "      <th>MDVP:Fhi(Hz)</th>\n",
       "      <th>MDVP:Flo(Hz)</th>\n",
       "      <th>MDVP:Jitter(%)</th>\n",
       "      <th>MDVP:Jitter(Abs)</th>\n",
       "      <th>MDVP:RAP</th>\n",
       "      <th>MDVP:PPQ</th>\n",
       "      <th>Jitter:DDP</th>\n",
       "      <th>MDVP:Shimmer</th>\n",
       "      <th>MDVP:Shimmer(dB)</th>\n",
       "      <th>Shimmer:APQ3</th>\n",
       "      <th>Shimmer:APQ5</th>\n",
       "      <th>MDVP:APQ</th>\n",
       "      <th>Shimmer:DDA</th>\n",
       "      <th>NHR</th>\n",
       "      <th>status</th>\n",
       "      <th>spread1</th>\n",
       "      <th>PPE</th>\n",
       "    </tr>\n",
       "  </thead>\n",
       "  <tbody>\n",
       "    <tr>\n",
       "      <th>count</th>\n",
       "      <td>195.000000</td>\n",
       "      <td>195.000000</td>\n",
       "      <td>195.000000</td>\n",
       "      <td>195.000000</td>\n",
       "      <td>195.000000</td>\n",
       "      <td>195.000000</td>\n",
       "      <td>195.000000</td>\n",
       "      <td>195.000000</td>\n",
       "      <td>195.000000</td>\n",
       "      <td>195.000000</td>\n",
       "      <td>195.000000</td>\n",
       "      <td>195.000000</td>\n",
       "      <td>195.000000</td>\n",
       "      <td>195.000000</td>\n",
       "      <td>195.000000</td>\n",
       "      <td>195.000000</td>\n",
       "      <td>195.000000</td>\n",
       "      <td>195.000000</td>\n",
       "    </tr>\n",
       "    <tr>\n",
       "      <th>mean</th>\n",
       "      <td>154.228641</td>\n",
       "      <td>197.104918</td>\n",
       "      <td>116.324631</td>\n",
       "      <td>0.006220</td>\n",
       "      <td>0.000044</td>\n",
       "      <td>0.003306</td>\n",
       "      <td>0.003446</td>\n",
       "      <td>0.009920</td>\n",
       "      <td>0.029709</td>\n",
       "      <td>0.282251</td>\n",
       "      <td>0.015664</td>\n",
       "      <td>0.017878</td>\n",
       "      <td>0.024081</td>\n",
       "      <td>0.046993</td>\n",
       "      <td>0.024847</td>\n",
       "      <td>0.753846</td>\n",
       "      <td>-5.684397</td>\n",
       "      <td>0.206552</td>\n",
       "    </tr>\n",
       "    <tr>\n",
       "      <th>std</th>\n",
       "      <td>41.390065</td>\n",
       "      <td>91.491548</td>\n",
       "      <td>43.521413</td>\n",
       "      <td>0.004848</td>\n",
       "      <td>0.000035</td>\n",
       "      <td>0.002968</td>\n",
       "      <td>0.002759</td>\n",
       "      <td>0.008903</td>\n",
       "      <td>0.018857</td>\n",
       "      <td>0.194877</td>\n",
       "      <td>0.010153</td>\n",
       "      <td>0.012024</td>\n",
       "      <td>0.016947</td>\n",
       "      <td>0.030459</td>\n",
       "      <td>0.040418</td>\n",
       "      <td>0.431878</td>\n",
       "      <td>1.090208</td>\n",
       "      <td>0.090119</td>\n",
       "    </tr>\n",
       "    <tr>\n",
       "      <th>min</th>\n",
       "      <td>88.333000</td>\n",
       "      <td>102.145000</td>\n",
       "      <td>65.476000</td>\n",
       "      <td>0.001680</td>\n",
       "      <td>0.000007</td>\n",
       "      <td>0.000680</td>\n",
       "      <td>0.000920</td>\n",
       "      <td>0.002040</td>\n",
       "      <td>0.009540</td>\n",
       "      <td>0.085000</td>\n",
       "      <td>0.004550</td>\n",
       "      <td>0.005700</td>\n",
       "      <td>0.007190</td>\n",
       "      <td>0.013640</td>\n",
       "      <td>0.000650</td>\n",
       "      <td>0.000000</td>\n",
       "      <td>-7.964984</td>\n",
       "      <td>0.044539</td>\n",
       "    </tr>\n",
       "    <tr>\n",
       "      <th>25%</th>\n",
       "      <td>117.572000</td>\n",
       "      <td>134.862500</td>\n",
       "      <td>84.291000</td>\n",
       "      <td>0.003460</td>\n",
       "      <td>0.000020</td>\n",
       "      <td>0.001660</td>\n",
       "      <td>0.001860</td>\n",
       "      <td>0.004985</td>\n",
       "      <td>0.016505</td>\n",
       "      <td>0.148500</td>\n",
       "      <td>0.008245</td>\n",
       "      <td>0.009580</td>\n",
       "      <td>0.013080</td>\n",
       "      <td>0.024735</td>\n",
       "      <td>0.005925</td>\n",
       "      <td>1.000000</td>\n",
       "      <td>-6.450096</td>\n",
       "      <td>0.137451</td>\n",
       "    </tr>\n",
       "    <tr>\n",
       "      <th>50%</th>\n",
       "      <td>148.790000</td>\n",
       "      <td>175.829000</td>\n",
       "      <td>104.315000</td>\n",
       "      <td>0.004940</td>\n",
       "      <td>0.000030</td>\n",
       "      <td>0.002500</td>\n",
       "      <td>0.002690</td>\n",
       "      <td>0.007490</td>\n",
       "      <td>0.022970</td>\n",
       "      <td>0.221000</td>\n",
       "      <td>0.012790</td>\n",
       "      <td>0.013470</td>\n",
       "      <td>0.018260</td>\n",
       "      <td>0.038360</td>\n",
       "      <td>0.011660</td>\n",
       "      <td>1.000000</td>\n",
       "      <td>-5.720868</td>\n",
       "      <td>0.194052</td>\n",
       "    </tr>\n",
       "    <tr>\n",
       "      <th>75%</th>\n",
       "      <td>182.769000</td>\n",
       "      <td>224.205500</td>\n",
       "      <td>140.018500</td>\n",
       "      <td>0.007365</td>\n",
       "      <td>0.000060</td>\n",
       "      <td>0.003835</td>\n",
       "      <td>0.003955</td>\n",
       "      <td>0.011505</td>\n",
       "      <td>0.037885</td>\n",
       "      <td>0.350000</td>\n",
       "      <td>0.020265</td>\n",
       "      <td>0.022380</td>\n",
       "      <td>0.029400</td>\n",
       "      <td>0.060795</td>\n",
       "      <td>0.025640</td>\n",
       "      <td>1.000000</td>\n",
       "      <td>-5.046192</td>\n",
       "      <td>0.252980</td>\n",
       "    </tr>\n",
       "    <tr>\n",
       "      <th>max</th>\n",
       "      <td>260.105000</td>\n",
       "      <td>592.030000</td>\n",
       "      <td>239.170000</td>\n",
       "      <td>0.033160</td>\n",
       "      <td>0.000260</td>\n",
       "      <td>0.021440</td>\n",
       "      <td>0.019580</td>\n",
       "      <td>0.064330</td>\n",
       "      <td>0.119080</td>\n",
       "      <td>1.302000</td>\n",
       "      <td>0.056470</td>\n",
       "      <td>0.079400</td>\n",
       "      <td>0.137780</td>\n",
       "      <td>0.169420</td>\n",
       "      <td>0.314820</td>\n",
       "      <td>1.000000</td>\n",
       "      <td>-2.434031</td>\n",
       "      <td>0.527367</td>\n",
       "    </tr>\n",
       "  </tbody>\n",
       "</table>\n",
       "</div>"
      ],
      "text/plain": [
       "       MDVP:Fo(Hz)  MDVP:Fhi(Hz)  MDVP:Flo(Hz)  MDVP:Jitter(%)  \\\n",
       "count   195.000000    195.000000    195.000000      195.000000   \n",
       "mean    154.228641    197.104918    116.324631        0.006220   \n",
       "std      41.390065     91.491548     43.521413        0.004848   \n",
       "min      88.333000    102.145000     65.476000        0.001680   \n",
       "25%     117.572000    134.862500     84.291000        0.003460   \n",
       "50%     148.790000    175.829000    104.315000        0.004940   \n",
       "75%     182.769000    224.205500    140.018500        0.007365   \n",
       "max     260.105000    592.030000    239.170000        0.033160   \n",
       "\n",
       "       MDVP:Jitter(Abs)    MDVP:RAP    MDVP:PPQ  Jitter:DDP  MDVP:Shimmer  \\\n",
       "count        195.000000  195.000000  195.000000  195.000000    195.000000   \n",
       "mean           0.000044    0.003306    0.003446    0.009920      0.029709   \n",
       "std            0.000035    0.002968    0.002759    0.008903      0.018857   \n",
       "min            0.000007    0.000680    0.000920    0.002040      0.009540   \n",
       "25%            0.000020    0.001660    0.001860    0.004985      0.016505   \n",
       "50%            0.000030    0.002500    0.002690    0.007490      0.022970   \n",
       "75%            0.000060    0.003835    0.003955    0.011505      0.037885   \n",
       "max            0.000260    0.021440    0.019580    0.064330      0.119080   \n",
       "\n",
       "       MDVP:Shimmer(dB)  Shimmer:APQ3  Shimmer:APQ5    MDVP:APQ  Shimmer:DDA  \\\n",
       "count        195.000000    195.000000    195.000000  195.000000   195.000000   \n",
       "mean           0.282251      0.015664      0.017878    0.024081     0.046993   \n",
       "std            0.194877      0.010153      0.012024    0.016947     0.030459   \n",
       "min            0.085000      0.004550      0.005700    0.007190     0.013640   \n",
       "25%            0.148500      0.008245      0.009580    0.013080     0.024735   \n",
       "50%            0.221000      0.012790      0.013470    0.018260     0.038360   \n",
       "75%            0.350000      0.020265      0.022380    0.029400     0.060795   \n",
       "max            1.302000      0.056470      0.079400    0.137780     0.169420   \n",
       "\n",
       "              NHR      status     spread1         PPE  \n",
       "count  195.000000  195.000000  195.000000  195.000000  \n",
       "mean     0.024847    0.753846   -5.684397    0.206552  \n",
       "std      0.040418    0.431878    1.090208    0.090119  \n",
       "min      0.000650    0.000000   -7.964984    0.044539  \n",
       "25%      0.005925    1.000000   -6.450096    0.137451  \n",
       "50%      0.011660    1.000000   -5.720868    0.194052  \n",
       "75%      0.025640    1.000000   -5.046192    0.252980  \n",
       "max      0.314820    1.000000   -2.434031    0.527367  "
      ]
     },
     "execution_count": 47,
     "metadata": {},
     "output_type": "execute_result"
    }
   ],
   "source": [
    "ef=['name','HNR','RPDE','DFA','D2', \"spread2\"]\n",
    "df_parkinson_ef= df_parkinson.drop(ef, 1, errors='ignore')\n",
    "df_parkinson_ef.describe()"
   ]
  },
  {
   "cell_type": "code",
   "execution_count": 48,
   "id": "77761fd3",
   "metadata": {},
   "outputs": [
    {
     "name": "stdout",
     "output_type": "stream",
     "text": [
      "<class 'pandas.core.frame.DataFrame'>\n",
      "RangeIndex: 195 entries, 0 to 194\n",
      "Data columns (total 18 columns):\n",
      " #   Column            Non-Null Count  Dtype  \n",
      "---  ------            --------------  -----  \n",
      " 0   MDVP:Fo(Hz)       195 non-null    float64\n",
      " 1   MDVP:Fhi(Hz)      195 non-null    float64\n",
      " 2   MDVP:Flo(Hz)      195 non-null    float64\n",
      " 3   MDVP:Jitter(%)    195 non-null    float64\n",
      " 4   MDVP:Jitter(Abs)  195 non-null    float64\n",
      " 5   MDVP:RAP          195 non-null    float64\n",
      " 6   MDVP:PPQ          195 non-null    float64\n",
      " 7   Jitter:DDP        195 non-null    float64\n",
      " 8   MDVP:Shimmer      195 non-null    float64\n",
      " 9   MDVP:Shimmer(dB)  195 non-null    float64\n",
      " 10  Shimmer:APQ3      195 non-null    float64\n",
      " 11  Shimmer:APQ5      195 non-null    float64\n",
      " 12  MDVP:APQ          195 non-null    float64\n",
      " 13  Shimmer:DDA       195 non-null    float64\n",
      " 14  NHR               195 non-null    float64\n",
      " 15  status            195 non-null    int64  \n",
      " 16  spread1           195 non-null    float64\n",
      " 17  PPE               195 non-null    float64\n",
      "dtypes: float64(17), int64(1)\n",
      "memory usage: 27.5 KB\n"
     ]
    }
   ],
   "source": [
    "df_parkinson_ef.info()"
   ]
  },
  {
   "cell_type": "markdown",
   "id": "96a0bbcf",
   "metadata": {},
   "source": [
    "## Split data"
   ]
  },
  {
   "cell_type": "code",
   "execution_count": 49,
   "id": "94343074",
   "metadata": {},
   "outputs": [
    {
     "name": "stdout",
     "output_type": "stream",
     "text": [
      "(195, 17) (195,)\n"
     ]
    }
   ],
   "source": [
    "X=(df_parkinson_ef.iloc[:,0:]).drop(columns=[\"status\"])\n",
    "y = df_parkinson_ef.status\n",
    "print(X.shape,y.shape)\n",
    "#X.info()"
   ]
  },
  {
   "cell_type": "code",
   "execution_count": 50,
   "id": "054b7336",
   "metadata": {},
   "outputs": [],
   "source": [
    "# split the dataset\n",
    "X_train, X_test, y_train, y_test = train_test_split( X, y, test_size=0.3, random_state=0)"
   ]
  },
  {
   "cell_type": "markdown",
   "id": "07d41694",
   "metadata": {},
   "source": [
    "## Training model "
   ]
  },
  {
   "cell_type": "markdown",
   "id": "0d990c3c",
   "metadata": {},
   "source": [
    "### Trainning"
   ]
  },
  {
   "cell_type": "code",
   "execution_count": 51,
   "id": "2138cc75",
   "metadata": {},
   "outputs": [],
   "source": [
    "from sklearn.metrics import accuracy_score"
   ]
  },
  {
   "cell_type": "code",
   "execution_count": 52,
   "id": "8c8c6c0a",
   "metadata": {},
   "outputs": [
    {
     "name": "stdout",
     "output_type": "stream",
     "text": [
      "Model accuracy score : 93.22%\n",
      "Model Baaccuracy score : 95.65%\n"
     ]
    }
   ],
   "source": [
    "from sklearn.tree import DecisionTreeClassifier\n",
    "DT_model = DecisionTreeClassifier(random_state = 234) \n",
    "DT_model.fit(X_train, y_train)\n",
    "y_pred_test = DT_model.predict(X_test)\n",
    "y_pred_train = DT_model.predict(X_train)\n",
    "\n",
    "gt_array = [y_train, y_test] # ground truth\n",
    "pred_array = [y_pred_train, y_pred_test] # predictions\n",
    "print('Model accuracy score : {:0.2%}'. format(accuracy_score(y_test, y_pred_test)))\n",
    "print('Model Baaccuracy score : {:0.2%}'. format(balanced_accuracy_score(y_test, y_pred_test)))"
   ]
  },
  {
   "cell_type": "code",
   "execution_count": 53,
   "id": "b935b4fb",
   "metadata": {},
   "outputs": [
    {
     "name": "stdout",
     "output_type": "stream",
     "text": [
      "Model accuracy score : 89.83%\n",
      "Model Baaccuracy score : 76.92%\n"
     ]
    }
   ],
   "source": [
    "from sklearn.linear_model import LogisticRegression\n",
    "LoR_model = LogisticRegression(solver= 'liblinear')\n",
    "LoR_model.fit(X_train, y_train)\n",
    "y_pred_test = LoR_model.predict(X_test)\n",
    "y_pred_train = LoR_model.predict(X_train)\n",
    "\n",
    "gt_array = [y_train, y_test] # ground truth\n",
    "pred_array = [y_pred_train, y_pred_test] # predictions\n",
    "print('Model accuracy score : {:0.2%}'. format(accuracy_score(y_test, y_pred_test)))\n",
    "print('Model Baaccuracy score : {:0.2%}'. format(balanced_accuracy_score(y_test, y_pred_test)))"
   ]
  },
  {
   "cell_type": "code",
   "execution_count": 54,
   "id": "e3536654",
   "metadata": {},
   "outputs": [
    {
     "name": "stdout",
     "output_type": "stream",
     "text": [
      "Model accuracy score : 64.41%\n",
      "Model Baaccuracy score : 77.17%\n"
     ]
    }
   ],
   "source": [
    "# Initialize the random forest classifier\n",
    "from sklearn.naive_bayes import GaussianNB\n",
    "NB_model = GaussianNB(priors=None, var_smoothing=1e-09)\n",
    "NB_model.fit(X_train, y_train)\n",
    "y_pred_test = NB_model.predict(X_test)\n",
    "y_pred_train = NB_model.predict(X_train)\n",
    "\n",
    "gt_array = [y_train, y_test] # ground truth\n",
    "pred_array = [y_pred_train, y_pred_test] # predictions\n",
    "print('Model accuracy score : {:0.2%}'. format(accuracy_score(y_test, y_pred_test)))\n",
    "print('Model Baaccuracy score : {:0.2%}'. format(balanced_accuracy_score(y_test, y_pred_test)))"
   ]
  },
  {
   "cell_type": "code",
   "execution_count": 55,
   "id": "4fc965fc",
   "metadata": {},
   "outputs": [
    {
     "name": "stdout",
     "output_type": "stream",
     "text": [
      "Model accuracy score : 86.44%\n",
      "Model Baaccuracy score : 69.23%\n"
     ]
    }
   ],
   "source": [
    "# Initialize the random forest classifier\n",
    "from sklearn.svm import SVC\n",
    "NB_model = SVC()\n",
    "NB_model.fit(X_train, y_train)\n",
    "y_pred_test = NB_model.predict(X_test)\n",
    "y_pred_train = NB_model.predict(X_train)\n",
    "\n",
    "gt_array = [y_train, y_test] # ground truth\n",
    "pred_array = [y_pred_train, y_pred_test] # predictions\n",
    "print('Model accuracy score : {:0.2%}'. format(accuracy_score(y_test, y_pred_test)))\n",
    "print('Model Baaccuracy score : {:0.2%}'. format(balanced_accuracy_score(y_test, y_pred_test)))"
   ]
  },
  {
   "cell_type": "code",
   "execution_count": 56,
   "id": "1b682e33",
   "metadata": {},
   "outputs": [
    {
     "name": "stdout",
     "output_type": "stream",
     "text": [
      "Model accuracy score : 94.92%\n",
      "Model Baaccuracy score : 93.98%\n"
     ]
    }
   ],
   "source": [
    "from sklearn.ensemble import RandomForestClassifier\n",
    "\n",
    "RF_model = RandomForestClassifier()\n",
    "RF_model.fit(X_train, y_train)\n",
    "y_pred_test = RF_model.predict(X_test)\n",
    "y_pred_train = RF_model.predict(X_train)\n",
    "\n",
    "gt_array = [y_train, y_test] # ground truth\n",
    "pred_array = [y_pred_train, y_pred_test] # predictions\n",
    "print('Model accuracy score : {:0.2%}'. format(accuracy_score(y_test, y_pred_test)))\n",
    "print('Model Baaccuracy score : {:0.2%}'. format(balanced_accuracy_score(y_test, y_pred_test)))"
   ]
  },
  {
   "cell_type": "markdown",
   "id": "4d684326",
   "metadata": {},
   "source": [
    "# StratifiedKFold "
   ]
  },
  {
   "cell_type": "code",
   "execution_count": 72,
   "id": "b866eff0",
   "metadata": {},
   "outputs": [
    {
     "name": "stdout",
     "output_type": "stream",
     "text": [
      "Average Accuracy: 91.28205128205128\n",
      "Average Classification Report:85.40996168582375\n"
     ]
    }
   ],
   "source": [
    "from sklearn.model_selection import StratifiedKFold\n",
    "# Initialize k-fold cross-validation\n",
    "kf = StratifiedKFold(n_splits=5, shuffle=True, random_state=42)\n",
    "\n",
    "# Initialize lists to store results\n",
    "accuracy_scores = []\n",
    "BAcc = []\n",
    "\n",
    "# Iterate through the folds\n",
    "for train_index, test_index in kf.split(X, y):\n",
    "    X_train, X_test = X.iloc[train_index], X.iloc[test_index]\n",
    "    y_train, y_test = y.iloc[train_index], y.iloc[test_index]\n",
    "\n",
    "    # Apply SMOTE to balance the training dataset\n",
    "\n",
    "    # Train the SVM classifier on the resampled dataset\n",
    "    #svm = SVC()\n",
    "    #svm = DecisionTreeClassifier(random_state = 234) \n",
    "    #svm = LogisticRegression(solver= 'liblinear')\n",
    "    #svm = GaussianNB(priors=None, var_smoothing=1e-09)\n",
    "    svm = RandomForestClassifier()\n",
    "    svm.fit(X_train, y_train)\n",
    "\n",
    "    # Make predictions on the test set\n",
    "    y_pred = svm.predict(X_test)\n",
    "\n",
    "    # Evaluate the model\n",
    "    accuracy = accuracy_score(y_test, y_pred)\n",
    "    report = balanced_accuracy_score(y_test, y_pred)\n",
    "\n",
    "    accuracy_scores.append(accuracy)\n",
    "    BAcc.append(report)\n",
    "\n",
    "# Calculate and print the average accuracy and classification report\n",
    "average_accuracy = np.mean(accuracy_scores)*100\n",
    "average_BAcc = np.mean(BAcc)*100\n",
    "\n",
    "print(f\"Average Accuracy: {average_accuracy}\")\n",
    "print(f\"Average Classification Report:{average_BAcc}\")\n"
   ]
  },
  {
   "cell_type": "markdown",
   "id": "7fd9013c",
   "metadata": {},
   "source": [
    "# Only K fold"
   ]
  },
  {
   "cell_type": "code",
   "execution_count": 73,
   "id": "7d418282",
   "metadata": {},
   "outputs": [
    {
     "name": "stdout",
     "output_type": "stream",
     "text": [
      "Fold:1, Train set: 156, Test set:39\n",
      "Fold:2, Train set: 156, Test set:39\n",
      "Fold:3, Train set: 156, Test set:39\n",
      "Fold:4, Train set: 156, Test set:39\n",
      "Fold:5, Train set: 156, Test set:39\n",
      "Scores for each fold are: [87.5  93.55 87.1  96.77 80.65]\n",
      "Average score: 89.11 %\n"
     ]
    }
   ],
   "source": [
    "from sklearn.model_selection import KFold, cross_val_score\n",
    "from sklearn import datasets\n",
    "from sklearn import model_selection\n",
    "from sklearn.tree import DecisionTreeClassifier\n",
    "kf =KFold(n_splits=5, shuffle=True, random_state=42)\n",
    "cnt = 1\n",
    "# split()  method generate indices to split data into training and test set.\n",
    "for train_index, test_index in kf.split(X, y):\n",
    "    print(f'Fold:{cnt}, Train set: {len(train_index)}, Test set:{len(test_index)}')\n",
    "    cnt += 1\n",
    "score1 = cross_val_score(DecisionTreeClassifier(random_state = 234) , X_train, y_train , cv= kf, scoring=\"accuracy\")\n",
    "print(f'Scores for each fold are: {score1.round(4)*100}')\n",
    "print(f'Average score: {\"{:.2f}\".format(score1.mean()*100)}',\"%\")"
   ]
  },
  {
   "cell_type": "code",
   "execution_count": 74,
   "id": "d23a548d",
   "metadata": {},
   "outputs": [
    {
     "name": "stdout",
     "output_type": "stream",
     "text": [
      "Fold:1, Train set: 156, Test set:39\n",
      "Fold:2, Train set: 156, Test set:39\n",
      "Fold:3, Train set: 156, Test set:39\n",
      "Fold:4, Train set: 156, Test set:39\n",
      "Fold:5, Train set: 156, Test set:39\n",
      "Scores for each fold are: [89.74 92.31 92.31 97.44 84.62]\n",
      "Average score: 91.28 %\n"
     ]
    }
   ],
   "source": [
    "from sklearn.model_selection import KFold, cross_val_score\n",
    "from sklearn import datasets\n",
    "from sklearn import model_selection\n",
    "from sklearn.ensemble import RandomForestClassifier\n",
    "from sklearn.model_selection import StratifiedKFold\n",
    "# Initialize k-fold cross-validation\n",
    "kf =KFold(n_splits=5, shuffle=True, random_state=42)\n",
    "cnt = 1\n",
    "# split()  method generate indices to split data into training and test set.\n",
    "for train_index, test_index in kf.split(X, y):\n",
    "    print(f'Fold:{cnt}, Train set: {len(train_index)}, Test set:{len(test_index)}')\n",
    "    cnt += 1\n",
    "score1 = cross_val_score(RandomForestClassifier() , X, y, cv= kf, scoring=\"accuracy\")\n",
    "print(f'Scores for each fold are: {score1.round(4)*100}')\n",
    "print(f'Average score: {\"{:.2f}\".format(score1.mean()*100)}',\"%\")"
   ]
  },
  {
   "cell_type": "code",
   "execution_count": 75,
   "id": "d2726177",
   "metadata": {},
   "outputs": [
    {
     "name": "stdout",
     "output_type": "stream",
     "text": [
      "Fold:1, Train set: 156, Test set:39\n",
      "Fold:2, Train set: 156, Test set:39\n",
      "Fold:3, Train set: 156, Test set:39\n",
      "Fold:4, Train set: 156, Test set:39\n",
      "Fold:5, Train set: 156, Test set:39\n",
      "Scores for each fold are: [87.18 76.92 94.87 82.05 79.49]\n",
      "Average score: 84.10 %\n"
     ]
    }
   ],
   "source": [
    "from sklearn.model_selection import KFold, cross_val_score\n",
    "from sklearn import datasets\n",
    "from sklearn import model_selection\n",
    "from sklearn.model_selection import StratifiedKFold\n",
    "# Initialize k-fold cross-validation\n",
    "kf =KFold(n_splits=5, shuffle=True, random_state=42)\n",
    "cnt = 1\n",
    "# split()  method generate indices to split data into training and test set.\n",
    "for train_index, test_index in kf.split(X, y):\n",
    "    print(f'Fold:{cnt}, Train set: {len(train_index)}, Test set:{len(test_index)}')\n",
    "    cnt += 1\n",
    "score1 = cross_val_score(LogisticRegression(solver= 'liblinear') , X, y, cv= kf, scoring=\"accuracy\")\n",
    "print(f'Scores for each fold are: {score1.round(4)*100}')\n",
    "print(f'Average score: {\"{:.2f}\".format(score1.mean()*100)}',\"%\")"
   ]
  },
  {
   "cell_type": "code",
   "execution_count": 76,
   "id": "3ad84584",
   "metadata": {},
   "outputs": [
    {
     "name": "stdout",
     "output_type": "stream",
     "text": [
      "Fold:1, Train set: 156, Test set:39\n",
      "Fold:2, Train set: 156, Test set:39\n",
      "Fold:3, Train set: 156, Test set:39\n",
      "Fold:4, Train set: 156, Test set:39\n",
      "Fold:5, Train set: 156, Test set:39\n",
      "Scores for each fold are: [87.18 76.92 94.87 82.05 79.49]\n",
      "Average score: 84.10 %\n"
     ]
    }
   ],
   "source": [
    "from sklearn.model_selection import KFold, cross_val_score\n",
    "from sklearn import datasets\n",
    "from sklearn import model_selection\n",
    "\n",
    "kf =KFold(n_splits=5, shuffle=True, random_state=42)\n",
    "cnt = 1\n",
    "# split()  method generate indices to split data into training and test set.\n",
    "for train_index, test_index in kf.split(X, y):\n",
    "    print(f'Fold:{cnt}, Train set: {len(train_index)}, Test set:{len(test_index)}')\n",
    "    cnt += 1\n",
    "score1 = cross_val_score(LogisticRegression(solver= 'liblinear') , X, y, cv= kf, scoring=\"accuracy\")\n",
    "print(f'Scores for each fold are: {score1.round(4)*100}')\n",
    "print(f'Average score: {\"{:.2f}\".format(score1.mean()*100)}',\"%\")\n"
   ]
  },
  {
   "cell_type": "code",
   "execution_count": 77,
   "id": "fd56bbe7",
   "metadata": {},
   "outputs": [
    {
     "name": "stdout",
     "output_type": "stream",
     "text": [
      "Fold:1, Train set: 156, Test set:39\n",
      "Fold:2, Train set: 156, Test set:39\n",
      "Fold:3, Train set: 156, Test set:39\n",
      "Fold:4, Train set: 156, Test set:39\n",
      "Fold:5, Train set: 156, Test set:39\n",
      "Scores for each fold are: [69.23 71.79 69.23 58.97 71.79]\n",
      "Average score: 68.21 %\n"
     ]
    }
   ],
   "source": [
    "from sklearn.model_selection import KFold, cross_val_score\n",
    "from sklearn import datasets\n",
    "from sklearn import model_selection\n",
    "from sklearn.model_selection import StratifiedKFold\n",
    "# Initialize k-fold cross-validation\n",
    "kf =KFold(n_splits=5, shuffle=True, random_state=42)\n",
    "cnt = 1\n",
    "# split()  method generate indices to split data into training and test set.\n",
    "for train_index, test_index in kf.split(X, y):\n",
    "    print(f'Fold:{cnt}, Train set: {len(train_index)}, Test set:{len(test_index)}')\n",
    "    cnt += 1\n",
    "score1 = cross_val_score((GaussianNB(priors=None, var_smoothing=1e-09)) , X, y, cv= kf, scoring=\"accuracy\")\n",
    "print(f'Scores for each fold are: {score1.round(4)*100}')\n",
    "print(f'Average score: {\"{:.2f}\".format(score1.mean()*100)}',\"%\")"
   ]
  },
  {
   "cell_type": "code",
   "execution_count": 78,
   "id": "0f3404a5",
   "metadata": {},
   "outputs": [
    {
     "name": "stdout",
     "output_type": "stream",
     "text": [
      "Fold:1, Train set: 156, Test set:39\n",
      "Fold:2, Train set: 156, Test set:39\n",
      "Fold:3, Train set: 156, Test set:39\n",
      "Fold:4, Train set: 156, Test set:39\n",
      "Fold:5, Train set: 156, Test set:39\n",
      "Scores for each fold are: [84.62 74.36 89.74 79.49 79.49]\n",
      "Average score: 81.54 %\n"
     ]
    }
   ],
   "source": [
    "from sklearn.model_selection import KFold, cross_val_score\n",
    "from sklearn import datasets\n",
    "from sklearn import model_selection\n",
    "\n",
    "kf =KFold(n_splits=5, shuffle=True, random_state=42)\n",
    "cnt = 1\n",
    "# split()  method generate indices to split data into training and test set.\n",
    "for train_index, test_index in kf.split(X, y):\n",
    "    print(f'Fold:{cnt}, Train set: {len(train_index)}, Test set:{len(test_index)}')\n",
    "    cnt += 1\n",
    "score1 = cross_val_score((SVC()) , X, y, cv= kf, scoring=\"accuracy\")\n",
    "print(f'Scores for each fold are: {score1.round(4)*100}')\n",
    "print(f'Average score: {\"{:.2f}\".format(score1.mean()*100)}',\"%\")"
   ]
  }
 ],
 "metadata": {
  "kernelspec": {
   "display_name": "Python 3 (ipykernel)",
   "language": "python",
   "name": "python3"
  },
  "language_info": {
   "codemirror_mode": {
    "name": "ipython",
    "version": 3
   },
   "file_extension": ".py",
   "mimetype": "text/x-python",
   "name": "python",
   "nbconvert_exporter": "python",
   "pygments_lexer": "ipython3",
   "version": "3.10.4"
  }
 },
 "nbformat": 4,
 "nbformat_minor": 5
}
