{
 "cells": [
  {
   "cell_type": "markdown",
   "id": "4aae3a8e",
   "metadata": {},
   "source": [
    "## Prepare"
   ]
  },
  {
   "cell_type": "code",
   "execution_count": 36,
   "id": "b895fc2d",
   "metadata": {},
   "outputs": [],
   "source": [
    "# importing packages\n",
    "import numpy as np\n",
    "import pandas as pd\n",
    "import os\n",
    "from sklearn.model_selection import train_test_split\n",
    "from sklearn.pipeline import Pipeline\n",
    "from sklearn.preprocessing import StandardScaler\n",
    "from sklearn.metrics import accuracy_score, balanced_accuracy_score"
   ]
  },
  {
   "cell_type": "code",
   "execution_count": 37,
   "id": "b319a68d",
   "metadata": {},
   "outputs": [
    {
     "name": "stdout",
     "output_type": "stream",
     "text": [
      "F:\\Parkinson-Disease\n",
      "F:\\Parkinson-Disease\\Data set\\Parkinson disease.csv\n"
     ]
    }
   ],
   "source": [
    "#Data\n",
    "print(os.getcwd())\n",
    "data_dir = os.getcwd() + \"\\\\Data set\\\\Parkinson disease.csv\"\n",
    "print(data_dir)"
   ]
  },
  {
   "cell_type": "code",
   "execution_count": 38,
   "id": "d0053664",
   "metadata": {},
   "outputs": [],
   "source": [
    "df_parkinson = pd.read_csv(data_dir, delimiter = \",\")\n",
    "#df_parkinson.info()\n",
    "#df_parkinson.columns"
   ]
  },
  {
   "cell_type": "markdown",
   "id": "4424911d",
   "metadata": {},
   "source": [
    "## Data processing"
   ]
  },
  {
   "cell_type": "code",
   "execution_count": 39,
   "id": "6d50b477",
   "metadata": {},
   "outputs": [
    {
     "data": {
      "text/html": [
       "<div>\n",
       "<style scoped>\n",
       "    .dataframe tbody tr th:only-of-type {\n",
       "        vertical-align: middle;\n",
       "    }\n",
       "\n",
       "    .dataframe tbody tr th {\n",
       "        vertical-align: top;\n",
       "    }\n",
       "\n",
       "    .dataframe thead th {\n",
       "        text-align: right;\n",
       "    }\n",
       "</style>\n",
       "<table border=\"1\" class=\"dataframe\">\n",
       "  <thead>\n",
       "    <tr style=\"text-align: right;\">\n",
       "      <th></th>\n",
       "      <th>MDVP:Fo(Hz)</th>\n",
       "      <th>MDVP:Fhi(Hz)</th>\n",
       "      <th>MDVP:Flo(Hz)</th>\n",
       "      <th>MDVP:Jitter(%)</th>\n",
       "      <th>MDVP:Jitter(Abs)</th>\n",
       "      <th>MDVP:RAP</th>\n",
       "      <th>MDVP:PPQ</th>\n",
       "      <th>Jitter:DDP</th>\n",
       "      <th>MDVP:Shimmer</th>\n",
       "      <th>MDVP:Shimmer(dB)</th>\n",
       "      <th>Shimmer:APQ3</th>\n",
       "      <th>Shimmer:APQ5</th>\n",
       "      <th>MDVP:APQ</th>\n",
       "      <th>Shimmer:DDA</th>\n",
       "      <th>NHR</th>\n",
       "      <th>status</th>\n",
       "      <th>spread1</th>\n",
       "      <th>PPE</th>\n",
       "    </tr>\n",
       "  </thead>\n",
       "  <tbody>\n",
       "    <tr>\n",
       "      <th>count</th>\n",
       "      <td>195.000000</td>\n",
       "      <td>195.000000</td>\n",
       "      <td>195.000000</td>\n",
       "      <td>195.000000</td>\n",
       "      <td>195.000000</td>\n",
       "      <td>195.000000</td>\n",
       "      <td>195.000000</td>\n",
       "      <td>195.000000</td>\n",
       "      <td>195.000000</td>\n",
       "      <td>195.000000</td>\n",
       "      <td>195.000000</td>\n",
       "      <td>195.000000</td>\n",
       "      <td>195.000000</td>\n",
       "      <td>195.000000</td>\n",
       "      <td>195.000000</td>\n",
       "      <td>195.000000</td>\n",
       "      <td>195.000000</td>\n",
       "      <td>195.000000</td>\n",
       "    </tr>\n",
       "    <tr>\n",
       "      <th>mean</th>\n",
       "      <td>154.228641</td>\n",
       "      <td>197.104918</td>\n",
       "      <td>116.324631</td>\n",
       "      <td>0.006220</td>\n",
       "      <td>0.000044</td>\n",
       "      <td>0.003306</td>\n",
       "      <td>0.003446</td>\n",
       "      <td>0.009920</td>\n",
       "      <td>0.029709</td>\n",
       "      <td>0.282251</td>\n",
       "      <td>0.015664</td>\n",
       "      <td>0.017878</td>\n",
       "      <td>0.024081</td>\n",
       "      <td>0.046993</td>\n",
       "      <td>0.024847</td>\n",
       "      <td>0.753846</td>\n",
       "      <td>-5.684397</td>\n",
       "      <td>0.206552</td>\n",
       "    </tr>\n",
       "    <tr>\n",
       "      <th>std</th>\n",
       "      <td>41.390065</td>\n",
       "      <td>91.491548</td>\n",
       "      <td>43.521413</td>\n",
       "      <td>0.004848</td>\n",
       "      <td>0.000035</td>\n",
       "      <td>0.002968</td>\n",
       "      <td>0.002759</td>\n",
       "      <td>0.008903</td>\n",
       "      <td>0.018857</td>\n",
       "      <td>0.194877</td>\n",
       "      <td>0.010153</td>\n",
       "      <td>0.012024</td>\n",
       "      <td>0.016947</td>\n",
       "      <td>0.030459</td>\n",
       "      <td>0.040418</td>\n",
       "      <td>0.431878</td>\n",
       "      <td>1.090208</td>\n",
       "      <td>0.090119</td>\n",
       "    </tr>\n",
       "    <tr>\n",
       "      <th>min</th>\n",
       "      <td>88.333000</td>\n",
       "      <td>102.145000</td>\n",
       "      <td>65.476000</td>\n",
       "      <td>0.001680</td>\n",
       "      <td>0.000007</td>\n",
       "      <td>0.000680</td>\n",
       "      <td>0.000920</td>\n",
       "      <td>0.002040</td>\n",
       "      <td>0.009540</td>\n",
       "      <td>0.085000</td>\n",
       "      <td>0.004550</td>\n",
       "      <td>0.005700</td>\n",
       "      <td>0.007190</td>\n",
       "      <td>0.013640</td>\n",
       "      <td>0.000650</td>\n",
       "      <td>0.000000</td>\n",
       "      <td>-7.964984</td>\n",
       "      <td>0.044539</td>\n",
       "    </tr>\n",
       "    <tr>\n",
       "      <th>25%</th>\n",
       "      <td>117.572000</td>\n",
       "      <td>134.862500</td>\n",
       "      <td>84.291000</td>\n",
       "      <td>0.003460</td>\n",
       "      <td>0.000020</td>\n",
       "      <td>0.001660</td>\n",
       "      <td>0.001860</td>\n",
       "      <td>0.004985</td>\n",
       "      <td>0.016505</td>\n",
       "      <td>0.148500</td>\n",
       "      <td>0.008245</td>\n",
       "      <td>0.009580</td>\n",
       "      <td>0.013080</td>\n",
       "      <td>0.024735</td>\n",
       "      <td>0.005925</td>\n",
       "      <td>1.000000</td>\n",
       "      <td>-6.450096</td>\n",
       "      <td>0.137451</td>\n",
       "    </tr>\n",
       "    <tr>\n",
       "      <th>50%</th>\n",
       "      <td>148.790000</td>\n",
       "      <td>175.829000</td>\n",
       "      <td>104.315000</td>\n",
       "      <td>0.004940</td>\n",
       "      <td>0.000030</td>\n",
       "      <td>0.002500</td>\n",
       "      <td>0.002690</td>\n",
       "      <td>0.007490</td>\n",
       "      <td>0.022970</td>\n",
       "      <td>0.221000</td>\n",
       "      <td>0.012790</td>\n",
       "      <td>0.013470</td>\n",
       "      <td>0.018260</td>\n",
       "      <td>0.038360</td>\n",
       "      <td>0.011660</td>\n",
       "      <td>1.000000</td>\n",
       "      <td>-5.720868</td>\n",
       "      <td>0.194052</td>\n",
       "    </tr>\n",
       "    <tr>\n",
       "      <th>75%</th>\n",
       "      <td>182.769000</td>\n",
       "      <td>224.205500</td>\n",
       "      <td>140.018500</td>\n",
       "      <td>0.007365</td>\n",
       "      <td>0.000060</td>\n",
       "      <td>0.003835</td>\n",
       "      <td>0.003955</td>\n",
       "      <td>0.011505</td>\n",
       "      <td>0.037885</td>\n",
       "      <td>0.350000</td>\n",
       "      <td>0.020265</td>\n",
       "      <td>0.022380</td>\n",
       "      <td>0.029400</td>\n",
       "      <td>0.060795</td>\n",
       "      <td>0.025640</td>\n",
       "      <td>1.000000</td>\n",
       "      <td>-5.046192</td>\n",
       "      <td>0.252980</td>\n",
       "    </tr>\n",
       "    <tr>\n",
       "      <th>max</th>\n",
       "      <td>260.105000</td>\n",
       "      <td>592.030000</td>\n",
       "      <td>239.170000</td>\n",
       "      <td>0.033160</td>\n",
       "      <td>0.000260</td>\n",
       "      <td>0.021440</td>\n",
       "      <td>0.019580</td>\n",
       "      <td>0.064330</td>\n",
       "      <td>0.119080</td>\n",
       "      <td>1.302000</td>\n",
       "      <td>0.056470</td>\n",
       "      <td>0.079400</td>\n",
       "      <td>0.137780</td>\n",
       "      <td>0.169420</td>\n",
       "      <td>0.314820</td>\n",
       "      <td>1.000000</td>\n",
       "      <td>-2.434031</td>\n",
       "      <td>0.527367</td>\n",
       "    </tr>\n",
       "  </tbody>\n",
       "</table>\n",
       "</div>"
      ],
      "text/plain": [
       "       MDVP:Fo(Hz)  MDVP:Fhi(Hz)  MDVP:Flo(Hz)  MDVP:Jitter(%)  \\\n",
       "count   195.000000    195.000000    195.000000      195.000000   \n",
       "mean    154.228641    197.104918    116.324631        0.006220   \n",
       "std      41.390065     91.491548     43.521413        0.004848   \n",
       "min      88.333000    102.145000     65.476000        0.001680   \n",
       "25%     117.572000    134.862500     84.291000        0.003460   \n",
       "50%     148.790000    175.829000    104.315000        0.004940   \n",
       "75%     182.769000    224.205500    140.018500        0.007365   \n",
       "max     260.105000    592.030000    239.170000        0.033160   \n",
       "\n",
       "       MDVP:Jitter(Abs)    MDVP:RAP    MDVP:PPQ  Jitter:DDP  MDVP:Shimmer  \\\n",
       "count        195.000000  195.000000  195.000000  195.000000    195.000000   \n",
       "mean           0.000044    0.003306    0.003446    0.009920      0.029709   \n",
       "std            0.000035    0.002968    0.002759    0.008903      0.018857   \n",
       "min            0.000007    0.000680    0.000920    0.002040      0.009540   \n",
       "25%            0.000020    0.001660    0.001860    0.004985      0.016505   \n",
       "50%            0.000030    0.002500    0.002690    0.007490      0.022970   \n",
       "75%            0.000060    0.003835    0.003955    0.011505      0.037885   \n",
       "max            0.000260    0.021440    0.019580    0.064330      0.119080   \n",
       "\n",
       "       MDVP:Shimmer(dB)  Shimmer:APQ3  Shimmer:APQ5    MDVP:APQ  Shimmer:DDA  \\\n",
       "count        195.000000    195.000000    195.000000  195.000000   195.000000   \n",
       "mean           0.282251      0.015664      0.017878    0.024081     0.046993   \n",
       "std            0.194877      0.010153      0.012024    0.016947     0.030459   \n",
       "min            0.085000      0.004550      0.005700    0.007190     0.013640   \n",
       "25%            0.148500      0.008245      0.009580    0.013080     0.024735   \n",
       "50%            0.221000      0.012790      0.013470    0.018260     0.038360   \n",
       "75%            0.350000      0.020265      0.022380    0.029400     0.060795   \n",
       "max            1.302000      0.056470      0.079400    0.137780     0.169420   \n",
       "\n",
       "              NHR      status     spread1         PPE  \n",
       "count  195.000000  195.000000  195.000000  195.000000  \n",
       "mean     0.024847    0.753846   -5.684397    0.206552  \n",
       "std      0.040418    0.431878    1.090208    0.090119  \n",
       "min      0.000650    0.000000   -7.964984    0.044539  \n",
       "25%      0.005925    1.000000   -6.450096    0.137451  \n",
       "50%      0.011660    1.000000   -5.720868    0.194052  \n",
       "75%      0.025640    1.000000   -5.046192    0.252980  \n",
       "max      0.314820    1.000000   -2.434031    0.527367  "
      ]
     },
     "execution_count": 39,
     "metadata": {},
     "output_type": "execute_result"
    }
   ],
   "source": [
    "ef=['name','HNR','RPDE','DFA','D2', \"spread2\"]\n",
    "df_parkinson_ef= df_parkinson.drop(ef, axis= 1)\n",
    "df_parkinson_ef.describe()\n",
    "#df_parkinson_ef.info()\n",
    "#print(df_parkinson_ef)"
   ]
  },
  {
   "cell_type": "markdown",
   "id": "96a0bbcf",
   "metadata": {},
   "source": [
    "## Split data"
   ]
  },
  {
   "cell_type": "code",
   "execution_count": 40,
   "id": "94343074",
   "metadata": {},
   "outputs": [
    {
     "name": "stdout",
     "output_type": "stream",
     "text": [
      "(195, 17) (195,)\n"
     ]
    }
   ],
   "source": [
    "X=(df_parkinson_ef.iloc[:,0:]).drop(columns=[\"status\"])\n",
    "y = df_parkinson_ef.status\n",
    "print(X.shape,y.shape)\n",
    "#X.info()"
   ]
  },
  {
   "cell_type": "code",
   "execution_count": 41,
   "id": "054b7336",
   "metadata": {},
   "outputs": [],
   "source": [
    "# split the dataset\n",
    "X_train, X_test, y_train, y_test = train_test_split( X, y, test_size=0.3, random_state=0)"
   ]
  },
  {
   "cell_type": "markdown",
   "id": "1d6c5ac1",
   "metadata": {},
   "source": [
    "# Model"
   ]
  },
  {
   "cell_type": "code",
   "execution_count": 53,
   "id": "e0b52ae4",
   "metadata": {},
   "outputs": [],
   "source": [
    "from sklearn.linear_model import LogisticRegression\n",
    "from sklearn.neighbors import KNeighborsClassifier\n",
    "from sklearn.naive_bayes import GaussianNB\n",
    "from sklearn.svm import SVC\n",
    "from sklearn.ensemble import RandomForestClassifier\n",
    "from sklearn.tree import DecisionTreeClassifier\n",
    "# models = []\n",
    "# model_names = ['LoR', 'SGD', 'Naive Bayes']\n",
    "# model_classifiers = [LogisticRegression(), SGDClassifier(max_iter=1000, tol=1e-3), KNeighborsClassifier(n_neighbors=3)]"
   ]
  },
  {
   "cell_type": "code",
   "execution_count": 54,
   "id": "2a4e5613",
   "metadata": {},
   "outputs": [],
   "source": [
    "model_pipline = []\n",
    "model_pipline.append (LogisticRegression(solver = 'liblinear'))\n",
    "model_pipline.append (KNeighborsClassifier(n_neighbors=10))\n",
    "model_pipline.append (GaussianNB())\n",
    "model_pipline.append (SVC())\n",
    "model_pipline.append (RandomForestClassifier())\n",
    "model_pipline.append (DecisionTreeClassifier())"
   ]
  },
  {
   "cell_type": "code",
   "execution_count": 55,
   "id": "396ad0ae",
   "metadata": {},
   "outputs": [],
   "source": [
    "from sklearn import metrics\n",
    "from sklearn.metrics import classification_report\n",
    "from sklearn.metrics import confusion_matrix\n",
    "from sklearn.metrics import accuracy_score, classification_report"
   ]
  },
  {
   "cell_type": "code",
   "execution_count": 59,
   "id": "2195d7a5",
   "metadata": {},
   "outputs": [],
   "source": [
    "models_list = ['LoR', 'KNN', 'GausianNB','SVC','RF','DT']\n",
    "acc_list = []\n",
    "roc_auc = []\n",
    "roc =[]\n",
    "cm_list = []\n",
    "classification_reports = []\n",
    "f1 = []\n",
    "BAcc = []"
   ]
  },
  {
   "cell_type": "code",
   "execution_count": 60,
   "id": "53832d59",
   "metadata": {},
   "outputs": [],
   "source": [
    "from sklearn.metrics import accuracy_score, balanced_accuracy_score, classification_report, roc_curve, auc"
   ]
  },
  {
   "cell_type": "code",
   "execution_count": 61,
   "id": "c9d39f42",
   "metadata": {},
   "outputs": [],
   "source": [
    "from sklearn.metrics import accuracy_score, classification_report\n",
    "from sklearn.metrics import f1_score\n",
    "for model in model_pipline :\n",
    "    model.fit(X_train, y_train)\n",
    "    y_pred = model.predict(X_test)\n",
    "    acc_list.append(metrics.accuracy_score(y_test, y_pred))\n",
    "    BAcc.append(metrics.balanced_accuracy_score(y_test, y_pred))\n",
    "    f1.append(metrics.f1_score(y_test, y_pred))\n",
    "    fpr, tpr, _ = metrics.roc_curve(y_test, y_pred)\n",
    "    roc_auc = metrics.auc(fpr, tpr)\n",
    "    cm_list.append(confusion_matrix(y_test, y_pred))\n",
    "    report = classification_report(y_test, y_pred)\n",
    "    classification_reports.append(report)"
   ]
  },
  {
   "cell_type": "code",
   "execution_count": 62,
   "id": "da1d6276",
   "metadata": {
    "scrolled": true
   },
   "outputs": [
    {
     "name": "stdout",
     "output_type": "stream",
     "text": [
      "Model: LoR, Accuracy: 89.83050847457628\n",
      "Model: KNN, Accuracy: 84.7457627118644\n",
      "Model: GausianNB, Accuracy: 64.40677966101694\n",
      "Model: SVC, Accuracy: 86.4406779661017\n",
      "Model: RF, Accuracy: 96.61016949152543\n",
      "Model: DT, Accuracy: 91.52542372881356\n"
     ]
    }
   ],
   "source": [
    "for model_name, accuracy in zip(models_list, acc_list):\n",
    "    print(f\"Model: {model_name}, Accuracy: {accuracy*100}\")   "
   ]
  },
  {
   "cell_type": "code",
   "execution_count": 63,
   "id": "dfb69314",
   "metadata": {},
   "outputs": [
    {
     "name": "stdout",
     "output_type": "stream",
     "text": [
      "Model: LoR, Accuracy: 76.92307692307692\n",
      "Model: KNN, Accuracy: 76.42140468227426\n",
      "Model: GausianNB, Accuracy: 77.17391304347827\n",
      "Model: SVC, Accuracy: 69.23076923076923\n",
      "Model: RF, Accuracy: 95.06688963210703\n",
      "Model: DT, Accuracy: 94.56521739130434\n"
     ]
    }
   ],
   "source": [
    "for model_name, BAcc in zip(models_list, BAcc):\n",
    "    print(f\"Model: {model_name}, BAccuracy: {BAcc*100}\")   "
   ]
  },
  {
   "cell_type": "code",
   "execution_count": 48,
   "id": "6cc51914",
   "metadata": {},
   "outputs": [
    {
     "name": "stdout",
     "output_type": "stream",
     "text": [
      "Model: LoR\n",
      "Classification Report:\n",
      "              precision    recall  f1-score   support\n",
      "\n",
      "           0       1.00      0.54      0.70        13\n",
      "           1       0.88      1.00      0.94        46\n",
      "\n",
      "    accuracy                           0.90        59\n",
      "   macro avg       0.94      0.77      0.82        59\n",
      "weighted avg       0.91      0.90      0.89        59\n",
      "\n",
      "-----------------------------\n",
      "Model: KNN\n",
      "Classification Report:\n",
      "              precision    recall  f1-score   support\n",
      "\n",
      "           0       0.67      0.62      0.64        13\n",
      "           1       0.89      0.91      0.90        46\n",
      "\n",
      "    accuracy                           0.85        59\n",
      "   macro avg       0.78      0.76      0.77        59\n",
      "weighted avg       0.84      0.85      0.85        59\n",
      "\n",
      "-----------------------------\n",
      "Model: GausianNB\n",
      "Classification Report:\n",
      "              precision    recall  f1-score   support\n",
      "\n",
      "           0       0.38      1.00      0.55        13\n",
      "           1       1.00      0.54      0.70        46\n",
      "\n",
      "    accuracy                           0.64        59\n",
      "   macro avg       0.69      0.77      0.63        59\n",
      "weighted avg       0.86      0.64      0.67        59\n",
      "\n",
      "-----------------------------\n",
      "Model: SVC\n",
      "Classification Report:\n",
      "              precision    recall  f1-score   support\n",
      "\n",
      "           0       1.00      0.38      0.56        13\n",
      "           1       0.85      1.00      0.92        46\n",
      "\n",
      "    accuracy                           0.86        59\n",
      "   macro avg       0.93      0.69      0.74        59\n",
      "weighted avg       0.88      0.86      0.84        59\n",
      "\n",
      "-----------------------------\n",
      "Model: RF\n",
      "Classification Report:\n",
      "              precision    recall  f1-score   support\n",
      "\n",
      "           0       0.92      0.92      0.92        13\n",
      "           1       0.98      0.98      0.98        46\n",
      "\n",
      "    accuracy                           0.97        59\n",
      "   macro avg       0.95      0.95      0.95        59\n",
      "weighted avg       0.97      0.97      0.97        59\n",
      "\n",
      "-----------------------------\n",
      "Model: DT\n",
      "Classification Report:\n",
      "              precision    recall  f1-score   support\n",
      "\n",
      "           0       0.81      1.00      0.90        13\n",
      "           1       1.00      0.93      0.97        46\n",
      "\n",
      "    accuracy                           0.95        59\n",
      "   macro avg       0.91      0.97      0.93        59\n",
      "weighted avg       0.96      0.95      0.95        59\n",
      "\n",
      "-----------------------------\n"
     ]
    }
   ],
   "source": [
    "for model_name,report in zip(models_list,classification_reports):\n",
    "    print(f\"Model: {model_name}\")\n",
    "    print(\"Classification Report:\")\n",
    "    print(report)\n",
    "    print(\"-----------------------------\")"
   ]
  },
  {
   "cell_type": "code",
   "execution_count": 49,
   "id": "4c0be8b1",
   "metadata": {},
   "outputs": [
    {
     "name": "stdout",
     "output_type": "stream",
     "text": [
      "Model: LoR, F1 score: 0.9387755102040816\n",
      "Model: KNN, F1 score: 0.9032258064516129\n",
      "Model: GausianNB, F1 score: 0.704225352112676\n",
      "Model: SVC, F1 score: 0.92\n",
      "Model: RF, F1 score: 0.9782608695652174\n",
      "Model: DT, F1 score: 0.9662921348314606\n"
     ]
    }
   ],
   "source": [
    "for model_name, f1_score in zip(models_list, f1):\n",
    "    print(f\"Model: {model_name}, F1 score: {f1_score}\")"
   ]
  },
  {
   "cell_type": "code",
   "execution_count": 50,
   "id": "22b328b0",
   "metadata": {},
   "outputs": [],
   "source": [
    "# import matplotlib.pyplot as plt\n",
    "# # Plot ROC curve for each model\n",
    "# for model_name, roc in zip(models_list, roc):\n",
    "#     plt.plot(fpr, tpr, label=f'{model_name} (AUC = {roc:.2f})')\n",
    "\n",
    "# # Plot the random classifier ROC curve (diagonal line)\n",
    "# plt.plot([0, 1], [0, 1], linestyle='--', color='gray', label='Random')\n",
    "\n",
    "# # Set plot settings\n",
    "# plt.title('ROC curve')\n",
    "# plt.xlim([0, 1])\n",
    "# plt.ylim([0, 1])\n",
    "# plt.xlabel('False Positive Rate')\n",
    "# plt.ylabel('True Positive Rate')\n",
    "# plt.legend(loc='best')\n",
    "\n",
    "# # Show the plot\n",
    "# plt.show()\n"
   ]
  },
  {
   "cell_type": "code",
   "execution_count": null,
   "id": "c4bb2948",
   "metadata": {},
   "outputs": [],
   "source": []
  }
 ],
 "metadata": {
  "kernelspec": {
   "display_name": "Python 3 (ipykernel)",
   "language": "python",
   "name": "python3"
  },
  "language_info": {
   "codemirror_mode": {
    "name": "ipython",
    "version": 3
   },
   "file_extension": ".py",
   "mimetype": "text/x-python",
   "name": "python",
   "nbconvert_exporter": "python",
   "pygments_lexer": "ipython3",
   "version": "3.10.4"
  }
 },
 "nbformat": 4,
 "nbformat_minor": 5
}
